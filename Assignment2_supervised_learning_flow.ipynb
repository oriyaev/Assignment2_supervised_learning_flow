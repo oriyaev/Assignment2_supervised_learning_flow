{
 "cells": [
  {
   "cell_type": "markdown",
   "id": "ec202ada",
   "metadata": {},
   "source": [
    "# Assignment2 - Supervised Learning flow"
   ]
  },
  {
   "cell_type": "markdown",
   "id": "b06a2810",
   "metadata": {},
   "source": [
    "# Part 1 - Student details:\n",
    "* Please write the First Name and last 4 digits of the i.d. for each student. For example:\n",
    "<pre>Israel 9812</pre>"
   ]
  },
  {
   "cell_type": "code",
   "execution_count": 15,
   "id": "ca16486b",
   "metadata": {},
   "outputs": [],
   "source": [
    "# student 1: Noam Levi 1722\n",
    "# student 2: Sapir Twig 9007\n",
    "# student 3: oriya even chen 0482"
   ]
  },
  {
   "cell_type": "markdown",
   "id": "df67c2ee-87c8-499c-a04f-1853c332f51d",
   "metadata": {},
   "source": [
    "## Part 2 - Initial Preparations \n",
    "You could add as many code cells as needed"
   ]
  },
  {
   "cell_type": "code",
   "execution_count": 16,
   "id": "b29b3454-b568-4614-8017-f15b3c59fc55",
   "metadata": {},
   "outputs": [],
   "source": [
    "import pandas as pd\n",
    "\n",
    "# Visualizations\n",
    "import matplotlib.pyplot as plt\n",
    "import seaborn as sns\n",
    "\n",
    "# Scaling\n",
    "from sklearn.preprocessing import MinMaxScaler\n",
    "\n",
    "# Models\n",
    "from sklearn.tree import DecisionTreeClassifier\n",
    "from sklearn.neighbors import KNeighborsClassifier\n",
    "\n",
    "# Models Evaluation\n",
    "from sklearn.metrics import accuracy_score, classification_report\n",
    "from sklearn.metrics import confusion_matrix\n",
    "from sklearn.model_selection import GridSearchCV, cross_val_score\n",
    "\n"
   ]
  },
  {
   "cell_type": "code",
   "execution_count": 17,
   "id": "4b47fe56-d611-4b28-be92-673db4d56400",
   "metadata": {},
   "outputs": [
    {
     "name": "stdout",
     "output_type": "stream",
     "text": [
      "Train set first 5 rows:\n",
      "   Pclass  Sex   Age  SibSp  Parch     Fare  Embarked  Survived\n",
      "0       1    0  54.0      1      0  78.2667         1         1\n",
      "1       2    0  45.0      0      0  13.5000         0         1\n",
      "2       3    1  20.0      0      0   9.5000         0         0\n",
      "3       3    1  36.0      0      0   7.8958         0         0\n",
      "4       3    1  22.0      0      0   8.0500         0         0\n",
      "\n",
      "Test set first 5 rows:\n",
      "   Pclass  Sex        Age  SibSp  Parch     Fare  Embarked  Survived\n",
      "0       3    1  35.000000      0      0   7.0500         0         0\n",
      "1       3    1  30.000000      0      0   7.2500         0         0\n",
      "2       3    1  29.699118      0      0  14.5000         0         0\n",
      "3       3    0  21.000000      0      0   7.7500         2         0\n",
      "4       3    1  32.000000      0      0  56.4958         0         1\n"
     ]
    }
   ],
   "source": [
    "# loading the train and the test datasets\n",
    "train_df = pd.read_csv('titanic_train.csv')\n",
    "test_df = pd.read_csv('titanic_test.csv')\n",
    "# printing the first 5 rows of each datasets\n",
    "print(\"Train set first 5 rows:\")\n",
    "print(train_df.head())\n",
    "print(\"\\nTest set first 5 rows:\")\n",
    "print(test_df.head())"
   ]
  },
  {
   "cell_type": "code",
   "execution_count": 18,
   "id": "53e27610-b640-4db0-80c9-789b5f5fae58",
   "metadata": {},
   "outputs": [
    {
     "name": "stdout",
     "output_type": "stream",
     "text": [
      "\n",
      "Train set statistics:\n",
      "           Pclass         Sex         Age       SibSp       Parch        Fare  \\\n",
      "count  712.000000  712.000000  712.000000  712.000000  712.000000  712.000000   \n",
      "mean     2.294944    0.640449   29.531213    0.528090    0.384831   32.379429   \n",
      "std      0.841990    0.480206   13.188028    1.055052    0.803085   49.836074   \n",
      "min      1.000000    0.000000    0.670000    0.000000    0.000000    0.000000   \n",
      "25%      1.750000    0.000000   22.000000    0.000000    0.000000    7.925000   \n",
      "50%      3.000000    1.000000   29.699118    0.000000    0.000000   14.500000   \n",
      "75%      3.000000    1.000000   35.000000    1.000000    0.000000   31.275000   \n",
      "max      3.000000    1.000000   80.000000    8.000000    6.000000  512.329200   \n",
      "\n",
      "         Embarked    Survived  \n",
      "count  712.000000  712.000000  \n",
      "mean     0.372191    0.394663  \n",
      "std      0.649970    0.489122  \n",
      "min      0.000000    0.000000  \n",
      "25%      0.000000    0.000000  \n",
      "50%      0.000000    0.000000  \n",
      "75%      1.000000    1.000000  \n",
      "max      3.000000    1.000000  \n",
      "-------------------------------------------------------------------------------------\n",
      "\n",
      "Test set statistics:\n",
      "           Pclass         Sex         Age       SibSp       Parch        Fare  \\\n",
      "count  179.000000  179.000000  179.000000  179.000000  179.000000  179.000000   \n",
      "mean     2.363128    0.675978   30.366983    0.502793    0.368715   31.507239   \n",
      "std      0.812116    0.469321   12.246691    1.278053    0.819923   49.254330   \n",
      "min      1.000000    0.000000    0.420000    0.000000    0.000000    0.000000   \n",
      "25%      2.000000    0.000000   24.000000    0.000000    0.000000    7.895800   \n",
      "50%      3.000000    1.000000   29.699118    0.000000    0.000000   12.000000   \n",
      "75%      3.000000    1.000000   36.000000    1.000000    0.000000   27.825000   \n",
      "max      3.000000    1.000000   71.000000    8.000000    5.000000  263.000000   \n",
      "\n",
      "         Embarked    Survived  \n",
      "count  179.000000  179.000000  \n",
      "mean     0.351955    0.340782  \n",
      "std      0.639640    0.475302  \n",
      "min      0.000000    0.000000  \n",
      "25%      0.000000    0.000000  \n",
      "50%      0.000000    0.000000  \n",
      "75%      1.000000    1.000000  \n",
      "max      3.000000    1.000000  \n"
     ]
    }
   ],
   "source": [
    "\n",
    "train_stats = train_df.describe(include='all')\n",
    "test_stats = test_df.describe(include='all')\n",
    "\n",
    "print(\"\\nTrain set statistics:\")\n",
    "print(train_stats)\n",
    "print(\"-------------------------------------------------------------------------------------\")\n",
    "print(\"\\nTest set statistics:\")\n",
    "print(test_stats)"
   ]
  },
  {
   "cell_type": "code",
   "execution_count": 19,
   "id": "82ebbafa-7bb7-436e-bc50-88a2880734c5",
   "metadata": {},
   "outputs": [
    {
     "data": {
      "text/plain": [
       "<Figure size 800x600 with 0 Axes>"
      ]
     },
     "metadata": {},
     "output_type": "display_data"
    },
    {
     "data": {
      "image/png": "[encoded data removed]",
      "text/plain": [
       "<Figure size 640x480 with 1 Axes>"
      ]
     },
     "metadata": {},
     "output_type": "display_data"
    },
    {
     "name": "stderr",
     "output_type": "stream",
     "text": [
      "C:\\ProgramData\\anaconda3\\Lib\\site-packages\\seaborn\\_oldcore.py:1119: FutureWarning: use_inf_as_na option is deprecated and will be removed in a future version. Convert inf values to NaN before operating instead.\n",
      "  with pd.option_context('mode.use_inf_as_na', True):\n"
     ]
    },
    {
     "data": {
      "image/png": "[encoded data removed]",
      "text/plain": [
       "<Figure size 800x600 with 1 Axes>"
      ]
     },
     "metadata": {},
     "output_type": "display_data"
    }
   ],
   "source": [
    "# Calculate survival counts for each passenger class\n",
    "survival_by_class = train_df.groupby('Pclass')['Survived'].value_counts().unstack().fillna(0)\n",
    "\n",
    "# Visualization: Bar plot of survival by passenger class (Pclass)\n",
    "plt.figure(figsize=(8, 6))\n",
    "survival_by_class.plot(kind='bar', color=['blue', 'lightblue'], width=0.8)\n",
    "plt.xticks(rotation=0)\n",
    "plt.title('Survival Count by Passenger Class')\n",
    "plt.xlabel('Passenger Class')\n",
    "plt.ylabel('Count')\n",
    "plt.legend(['Did not survive', 'Survived'], title='Survival', loc='upper left')\n",
    "plt.tight_layout()\n",
    "plt.show()\n",
    "\n",
    "# Visualization 2: Histogram of age distribution\n",
    "plt.figure(figsize=(8, 6))\n",
    "sns.histplot(train_df['Age'], bins=10, kde=True)\n",
    "plt.title('Age Distribution of Passengers')\n",
    "plt.xlabel('Age')\n",
    "plt.ylabel('Frequency')\n",
    "plt.show()\n",
    "\n",
    "\n"
   ]
  },
  {
   "cell_type": "markdown",
   "id": "fb36672a",
   "metadata": {},
   "source": [
    "## Part 3 - Experiments\r\n",
    "You could add as many code cells as needed"
   ]
  },
  {
   "cell_type": "code",
   "execution_count": 20,
   "id": "b7098585",
   "metadata": {},
   "outputs": [
    {
     "name": "stdout",
     "output_type": "stream",
     "text": [
      "\n",
      "Training set without scaling:\n",
      " Pclass  Sex  Age  SibSp  Parch    Fare  Embarked\n",
      "      1    0 54.0      1      0 78.2667         1\n",
      "      2    0 45.0      0      0 13.5000         0\n",
      "      3    1 20.0      0      0  9.5000         0\n",
      "      3    1 36.0      0      0  7.8958         0\n",
      "      3    1 22.0      0      0  8.0500         0\n",
      "\n",
      "Test set without scaling:\n",
      " Pclass  Sex       Age  SibSp  Parch    Fare  Embarked\n",
      "      3    1 35.000000      0      0  7.0500         0\n",
      "      3    1 30.000000      0      0  7.2500         0\n",
      "      3    1 29.699118      0      0 14.5000         0\n",
      "      3    0 21.000000      0      0  7.7500         2\n",
      "      3    1 32.000000      0      0 56.4958         0\n",
      "\n",
      "Training set after scaling (range -1 to 1):\n",
      " Pclass  Sex       Age  SibSp  Parch      Fare  Embarked\n",
      "   -1.0 -1.0  0.344510  -0.75   -1.0 -0.694467 -0.333333\n",
      "    0.0 -1.0  0.117610  -1.00   -1.0 -0.947300 -1.000000\n",
      "    1.0  1.0 -0.512669  -1.00   -1.0 -0.962914 -1.000000\n",
      "    1.0  1.0 -0.109290  -1.00   -1.0 -0.969177 -1.000000\n",
      "    1.0  1.0 -0.462246  -1.00   -1.0 -0.968575 -1.000000\n",
      "\n",
      "Test set after scaling (range -1 to 1):\n",
      " Pclass  Sex       Age  SibSp  Parch      Fare  Embarked\n",
      "    1.0  1.0 -0.134501   -1.0   -1.0 -0.972479 -1.000000\n",
      "    1.0  1.0 -0.260557   -1.0   -1.0 -0.971698 -1.000000\n",
      "    1.0  1.0 -0.268143   -1.0   -1.0 -0.943396 -1.000000\n",
      "    1.0 -1.0 -0.487457   -1.0   -1.0 -0.969746  0.333333\n",
      "    1.0  1.0 -0.210135   -1.0   -1.0 -0.779455 -1.000000\n"
     ]
    }
   ],
   "source": [
    "\n",
    "\n",
    "# Prepare data for training without scaling\n",
    "selected_features = ['Pclass', 'Sex', 'Age', 'SibSp', 'Parch', 'Fare', 'Embarked']\n",
    "X_train_no_scale = train_df[selected_features]\n",
    "y_train = train_df['Survived']\n",
    "X_test_no_scale = test_df[selected_features]\n",
    "y_test = test_df['Survived']\n",
    "\n",
    "# Display data without scaling\n",
    "print(\"\\nTraining set without scaling:\")\n",
    "print(X_train_no_scale.head().to_string(index=False))\n",
    "print(\"\\nTest set without scaling:\")\n",
    "print(X_test_no_scale.head().to_string(index=False))\n",
    "\n",
    "# Scaling the data using MinMaxScaler to the range [-1, 1]\n",
    "scaler = MinMaxScaler(feature_range=(-1, 1))\n",
    "X_train_scaled = scaler.fit_transform(X_train_no_scale)\n",
    "X_test_scaled = scaler.transform(X_test_no_scale)\n",
    "\n",
    "# Convert the scaled data back to DataFrame for better readability\n",
    "X_train_scaled_df = pd.DataFrame(X_train_scaled, columns=selected_features)\n",
    "X_test_scaled_df = pd.DataFrame(X_test_scaled, columns=selected_features)\n",
    "\n",
    "# Display scaled training and test data\n",
    "print(\"\\nTraining set after scaling (range -1 to 1):\")\n",
    "print(X_train_scaled_df.head().to_string(index=False))\n",
    "print(\"\\nTest set after scaling (range -1 to 1):\")\n",
    "print(X_test_scaled_df.head().to_string(index=False))\n"
   ]
  },
  {
   "cell_type": "code",
   "execution_count": 21,
   "id": "097afb02",
   "metadata": {},
   "outputs": [],
   "source": [
    "# Define hyperparameters for KNN\n",
    "knn_param_grid = {\n",
    "    'n_neighbors': [3, 5, 7],\n",
    "    'metric': ['euclidean', 'manhattan']\n",
    "}\n",
    "\n",
    "# Grid search for optimal KNN hyperparameters without scaling\n",
    "knn_grid_no_scaling = GridSearchCV(KNeighborsClassifier(), knn_param_grid, cv=5, scoring='f1_macro')\n",
    "knn_grid_no_scaling.fit(X_train_no_scale, y_train)\n",
    "knn_best_no_scaling = knn_grid_no_scaling.best_estimator_\n",
    "\n",
    "# Grid search for optimal KNN hyperparameters with scaling\n",
    "knn_grid_with_scaling = GridSearchCV(KNeighborsClassifier(), knn_param_grid, cv=5, scoring='f1_macro')\n",
    "knn_grid_with_scaling.fit(X_train_scaled, y_train) \n",
    "knn_best_with_scaling = knn_grid_with_scaling.best_estimator_\n"
   ]
  },
  {
   "cell_type": "code",
   "execution_count": 22,
   "id": "1fa9ec73",
   "metadata": {},
   "outputs": [],
   "source": [
    "\n",
    "# Define hyperparameters for Decision Tree\n",
    "dt_param_grid = {\n",
    "    'max_depth': [3, 5, 7],\n",
    "    'min_samples_split': [2, 4, 6]\n",
    "}\n",
    "\n",
    "# Grid search for optimal Decision Tree hyperparameters without scaling\n",
    "dt_grid_no_scaling = GridSearchCV(DecisionTreeClassifier(), dt_param_grid, cv=5, scoring='f1_macro')\n",
    "dt_grid_no_scaling.fit(X_train_no_scale, y_train)\n",
    "dt_best_no_scaling = dt_grid_no_scaling.best_estimator_\n",
    "\n",
    "# Grid search for optimal Decision Tree hyperparameters with scaling\n",
    "dt_grid_with_scaling = GridSearchCV(DecisionTreeClassifier(), dt_param_grid, cv=5, scoring='f1_macro')\n",
    "dt_grid_with_scaling.fit(X_train_scaled, y_train) \n",
    "dt_best_with_scaling = dt_grid_with_scaling.best_estimator_\n"
   ]
  },
  {
   "cell_type": "code",
   "execution_count": 23,
   "id": "937b653d",
   "metadata": {},
   "outputs": [
    {
     "name": "stdout",
     "output_type": "stream",
     "text": [
      "\n",
      "KNN without scaling - Accuracy:  0.7653631284916201\n",
      "              precision    recall  f1-score   support\n",
      "\n",
      "           0       0.80      0.86      0.83       118\n",
      "           1       0.69      0.57      0.62        61\n",
      "\n",
      "    accuracy                           0.77       179\n",
      "   macro avg       0.74      0.72      0.73       179\n",
      "weighted avg       0.76      0.77      0.76       179\n",
      "\n",
      "\n",
      "KNN with scaling - Accuracy:  0.8435754189944135\n",
      "              precision    recall  f1-score   support\n",
      "\n",
      "           0       0.88      0.88      0.88       118\n",
      "           1       0.77      0.77      0.77        61\n",
      "\n",
      "    accuracy                           0.84       179\n",
      "   macro avg       0.83      0.83      0.83       179\n",
      "weighted avg       0.84      0.84      0.84       179\n",
      "\n",
      "\n",
      "Decision Tree without scaling - Accuracy:  0.8324022346368715\n",
      "              precision    recall  f1-score   support\n",
      "\n",
      "           0       0.85      0.91      0.88       118\n",
      "           1       0.79      0.69      0.74        61\n",
      "\n",
      "    accuracy                           0.83       179\n",
      "   macro avg       0.82      0.80      0.81       179\n",
      "weighted avg       0.83      0.83      0.83       179\n",
      "\n",
      "\n",
      "Decision Tree with scaling - Accuracy:  0.8324022346368715\n",
      "              precision    recall  f1-score   support\n",
      "\n",
      "           0       0.85      0.91      0.88       118\n",
      "           1       0.79      0.69      0.74        61\n",
      "\n",
      "    accuracy                           0.83       179\n",
      "   macro avg       0.82      0.80      0.81       179\n",
      "weighted avg       0.83      0.83      0.83       179\n",
      "\n"
     ]
    }
   ],
   "source": [
    "\n",
    "# Predictions based on the best models\n",
    "knn_pred_no_scaling = knn_best_no_scaling.predict(X_test_no_scale)\n",
    "knn_pred_with_scaling = knn_best_with_scaling.predict(X_test_scaled)  \n",
    "dt_pred_no_scaling = dt_best_no_scaling.predict(X_test_no_scale)\n",
    "dt_pred_with_scaling = dt_best_with_scaling.predict(X_test_scaled) \n",
    "\n",
    "# Calculate accuracy and classification reports\n",
    "acc_knn_no_scaling = accuracy_score(y_test, knn_pred_no_scaling)\n",
    "acc_knn_with_scaling = accuracy_score(y_test, knn_pred_with_scaling)\n",
    "acc_dt_no_scaling = accuracy_score(y_test, dt_pred_no_scaling)\n",
    "acc_dt_with_scaling = accuracy_score(y_test, dt_pred_with_scaling)\n",
    "\n",
    "report_knn_no_scaling = classification_report(y_test, knn_pred_no_scaling)\n",
    "report_knn_with_scaling = classification_report(y_test, knn_pred_with_scaling)\n",
    "report_dt_no_scaling = classification_report(y_test, dt_pred_no_scaling)\n",
    "report_dt_with_scaling = classification_report(y_test, dt_pred_with_scaling)\n",
    "\n",
    "# Print the results\n",
    "print(\"\\nKNN without scaling - Accuracy: \", acc_knn_no_scaling)\n",
    "print(report_knn_no_scaling)\n",
    "\n",
    "print(\"\\nKNN with scaling - Accuracy: \", acc_knn_with_scaling)\n",
    "print(report_knn_with_scaling)\n",
    "\n",
    "print(\"\\nDecision Tree without scaling - Accuracy: \", acc_dt_no_scaling)\n",
    "print(report_dt_no_scaling)\n",
    "\n",
    "print(\"\\nDecision Tree with scaling - Accuracy: \", acc_dt_with_scaling)\n",
    "print(report_dt_with_scaling)\n",
    "\n"
   ]
  },
  {
   "cell_type": "code",
   "execution_count": 24,
   "id": "0825c2df-7f9f-4566-9351-5d506ee6bf26",
   "metadata": {},
   "outputs": [
    {
     "name": "stdout",
     "output_type": "stream",
     "text": [
      "\n",
      "*** Model Results Summary ***\n",
      "------------------------------\n",
      "        Model Scaling Applied  Accuracy (%)  Macro F1-Score\n",
      "          KNN              No     76.536313        0.727134\n",
      "          KNN             Yes     84.357542        0.825924\n",
      "Decision Tree              No     83.240223        0.806946\n",
      "Decision Tree             Yes     83.240223        0.806946\n",
      "------------------------------\n",
      "\n",
      "*** Best Hyperparameters for Each Model ***\n",
      "----------------------------------------\n",
      "           Model and Scaling                   Optimal Hyperparameters\n",
      "            KNN (No Scaling) {'metric': 'manhattan', 'n_neighbors': 7}\n",
      "          KNN (With Scaling) {'metric': 'manhattan', 'n_neighbors': 3}\n",
      "  Decision Tree (No Scaling)  {'max_depth': 3, 'min_samples_split': 2}\n",
      "Decision Tree (With Scaling)  {'max_depth': 3, 'min_samples_split': 2}\n",
      "----------------------------------------\n"
     ]
    }
   ],
   "source": [
    "# Create a DataFrame to summarize the results for model comparison\n",
    "results_comparison = pd.DataFrame({\n",
    "    'Model': ['KNN', 'KNN', 'Decision Tree', 'Decision Tree'],\n",
    "    'Scaling Applied': ['No', 'Yes', 'No', 'Yes'],\n",
    "    'Accuracy (%)': [acc_knn_no_scaling * 100, acc_knn_with_scaling * 100, acc_dt_no_scaling * 100, acc_dt_with_scaling * 100],\n",
    "    'Macro F1-Score': [\n",
    "        classification_report(y_test, knn_pred_no_scaling, output_dict=True)['macro avg']['f1-score'],\n",
    "        classification_report(y_test, knn_pred_with_scaling, output_dict=True)['macro avg']['f1-score'],\n",
    "        classification_report(y_test, dt_pred_no_scaling, output_dict=True)['macro avg']['f1-score'],\n",
    "        classification_report(y_test, dt_pred_with_scaling, output_dict=True)['macro avg']['f1-score']\n",
    "    ]\n",
    "})\n",
    "\n",
    "# Print results comparison with a more visually appealing format\n",
    "print(\"\\n*** Model Results Summary ***\")\n",
    "print(\"-\" * 30)\n",
    "print(results_comparison.to_string(index=False))\n",
    "print(\"-\" * 30)\n",
    "\n",
    "# Create a DataFrame to show the best hyperparameters for each model\n",
    "best_hyperparameters_summary = pd.DataFrame({\n",
    "    'Model and Scaling': ['KNN (No Scaling)', 'KNN (With Scaling)', 'Decision Tree (No Scaling)', 'Decision Tree (With Scaling)'],\n",
    "    'Optimal Hyperparameters': [\n",
    "        knn_grid_no_scaling.best_params_, \n",
    "        knn_grid_with_scaling.best_params_, \n",
    "        dt_grid_no_scaling.best_params_, \n",
    "        dt_grid_with_scaling.best_params_\n",
    "    ]\n",
    "})\n",
    "\n",
    "# Print best hyperparameters summary with a cleaner format\n",
    "print(\"\\n*** Best Hyperparameters for Each Model ***\")\n",
    "print(\"-\" * 40)\n",
    "print(best_hyperparameters_summary.to_string(index=False))\n",
    "print(\"-\" * 40)\n"
   ]
  },
  {
   "cell_type": "markdown",
   "id": "67d97f11",
   "metadata": {},
   "source": [
    "## Part 4 - Training \n",
    "Use the best combination of feature engineering, model (algorithm and hyperparameters) from the experiment part (part 3)"
   ]
  },
  {
   "cell_type": "code",
   "execution_count": 25,
   "id": "93713ead",
   "metadata": {},
   "outputs": [
    {
     "name": "stdout",
     "output_type": "stream",
     "text": [
      "---------------------------------------------------------------\n",
      "Best Model Combination Selected:\n",
      "Model: KNN with Scaling\n",
      "Best Hyperparameters: {'n_neighbors': 3, 'metric': 'manhattan'}\n",
      "---------------------------------------------------------------\n",
      "The model has been successfully trained on the training data.\n"
     ]
    }
   ],
   "source": [
    "# Choosing the best model combination based on results\n",
    "print(\"---------------------------------------------------------------\")\n",
    "best_model_name = \"KNN with Scaling\"\n",
    "best_params = {'n_neighbors': 3, 'metric': 'manhattan'}\n",
    "\n",
    "# Printing the best model and its hyperparameters\n",
    "print(\"Best Model Combination Selected:\")\n",
    "print(f\"Model: {best_model_name}\")\n",
    "print(f\"Best Hyperparameters: {best_params}\")\n",
    "print(\"---------------------------------------------------------------\")\n",
    "\n",
    "# Creating the model with the selected best hyperparameters\n",
    "best_model = KNeighborsClassifier(n_neighbors=best_params['n_neighbors'], metric=best_params['metric'])\n",
    "\n",
    "# Training the best model on the training data (with scaling)\n",
    "best_model.fit(X_train_scaled, y_train)\n",
    "\n",
    "print(\"The model has been successfully trained on the training data.\")\n",
    "\n"
   ]
  },
  {
   "cell_type": "code",
   "execution_count": null,
   "id": "c0fc460d",
   "metadata": {},
   "outputs": [],
   "source": []
  },
  {
   "cell_type": "code",
   "execution_count": null,
   "id": "064ad0a0",
   "metadata": {},
   "outputs": [],
   "source": []
  },
  {
   "cell_type": "markdown",
   "id": "259ab902",
   "metadata": {},
   "source": [
    "## Part 5 - Apply on test and show model performance estimation"
   ]
  },
  {
   "cell_type": "code",
   "execution_count": 26,
   "id": "d9971aa5",
   "metadata": {},
   "outputs": [
    {
     "name": "stdout",
     "output_type": "stream",
     "text": [
      "\n",
      "** First Predictions on the Test Set **\n",
      "-----------------------------------\n",
      "Passenger 1: Not Survived\n",
      "Passenger 2: Not Survived\n",
      "Passenger 3: Not Survived\n",
      "Passenger 4: Survived\n",
      "Passenger 5: Survived\n",
      "-----------------------------------\n",
      "\n",
      "** Model Performance on the Test Set **\n",
      "-----------------------------------\n",
      "              precision    recall  f1-score  support\n",
      "Not Survived   0.881356  0.881356  0.881356      118\n",
      "Survived       0.770492  0.770492  0.770492       61\n",
      "-----------------------------------\n",
      "\n",
      "** Model Accuracy on the Test Set **\n",
      "-----------------------------------\n",
      "Accuracy: 0.84\n",
      "-----------------------------------\n"
     ]
    }
   ],
   "source": [
    "# Predict on the test set using the chosen KNN model with scaling\n",
    "test_predictions = best_model.predict(X_test_scaled)\n",
    "\n",
    "# Display the first predictions on the test set\n",
    "print(\"\\n** First Predictions on the Test Set **\")\n",
    "print(\"-\" * 35)\n",
    "for i, prediction in enumerate(test_predictions[:5], start=1):\n",
    "    status = \"Survived\" if prediction == 1 else \"Not Survived\"\n",
    "    print(f\"Passenger {i}: {status}\")\n",
    "print(\"-\" * 35)\n",
    "\n",
    "# Evaluate model performance on the test set\n",
    "test_accuracy = accuracy_score(y_test, test_predictions)\n",
    "classification_report_dict = classification_report(y_test, test_predictions, target_names=['Not Survived', 'Survived'], output_dict=True)\n",
    "classification_report_df = pd.DataFrame(classification_report_dict).transpose()\n",
    "\n",
    "# Filter the report for relevant metrics\n",
    "classification_report_df = classification_report_df[['precision', 'recall', 'f1-score', 'support']].loc[['Not Survived', 'Survived']]\n",
    "classification_report_df['support'] = classification_report_df['support'].astype(int)  # Convert support to integers\n",
    "\n",
    "# Print the performance report with a cleaner format\n",
    "print(\"\\n** Model Performance on the Test Set **\")\n",
    "print(\"-\" * 35)\n",
    "print(classification_report_df.to_string(index=True))\n",
    "print(\"-\" * 35)\n",
    "\n",
    "# Display the accuracy on the test set\n",
    "print(\"\\n** Model Accuracy on the Test Set **\")\n",
    "print(\"-\" * 35)\n",
    "print(f\"Accuracy: {test_accuracy:.2f}\")\n",
    "print(\"-\" * 35)\n"
   ]
  },
  {
   "cell_type": "code",
   "execution_count": null,
   "id": "00d8aa96",
   "metadata": {},
   "outputs": [],
   "source": []
  },
  {
   "cell_type": "code",
   "execution_count": null,
   "id": "85b0104b-10f1-4645-a242-655ef7731c7e",
   "metadata": {},
   "outputs": [],
   "source": []
  },
  {
   "cell_type": "code",
   "execution_count": null,
   "id": "2e4bdc0b-ed1c-4564-a626-00b56ae2e190",
   "metadata": {},
   "outputs": [],
   "source": []
  }
 ],
 "metadata": {
  "kernelspec": {
   "display_name": "Python 3 (ipykernel)",
   "language": "python",
   "name": "python3"
  },
  "language_info": {
   "codemirror_mode": {
    "name": "ipython",
    "version": 3
   },
   "file_extension": ".py",
   "mimetype": "text/x-python",
   "name": "python",
   "nbconvert_exporter": "python",
   "pygments_lexer": "ipython3",
   "version": "3.11.7"
  }
 },
 "nbformat": 4,
 "nbformat_minor": 5
}
